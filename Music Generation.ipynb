{
 "cells": [
  {
   "cell_type": "markdown",
   "metadata": {},
   "source": [
    "### Imports"
   ]
  },
  {
   "cell_type": "code",
   "execution_count": 1,
   "metadata": {},
   "outputs": [],
   "source": [
    "from music21 import converter, instrument, note, chord, stream\n",
    "import glob\n",
    "import pickle\n",
    "import numpy as np\n",
    "from tensorflow.keras.utils import to_categorical\n"
   ]
  },
  {
   "cell_type": "markdown",
   "metadata": {},
   "source": [
    "## Read a Midi File"
   ]
  },
  {
   "cell_type": "code",
   "execution_count": 2,
   "metadata": {},
   "outputs": [],
   "source": [
    "midi = converter.parse(\"midi_songs/Zelda_Overworld.mid\")"
   ]
  },
  {
   "cell_type": "code",
   "execution_count": 3,
   "metadata": {},
   "outputs": [
    {
     "data": {
      "text/plain": [
       "<music21.stream.Score 0x162505c10>"
      ]
     },
     "execution_count": 3,
     "metadata": {},
     "output_type": "execute_result"
    }
   ],
   "source": [
    "midi"
   ]
  },
  {
   "cell_type": "code",
   "execution_count": 4,
   "metadata": {},
   "outputs": [
    {
     "data": {
      "text/html": [
       "\n",
       "        <div id=\"midiPlayerDiv7102\"></div>\n",
       "        <link rel=\"stylesheet\" href=\"https://cuthbertLab.github.io/music21j/css/m21.css\">\n",
       "        \n",
       "        <script\n",
       "        src=\"https://cdnjs.cloudflare.com/ajax/libs/require.js/2.3.6/require.min.js\"\n",
       "        ></script>\n",
       "    \n",
       "        <script>\n",
       "        function midiPlayerDiv7102_play() {\n",
       "            const rq = require.config({\n",
       "                paths: {\n",
       "                    'music21': 'https://cuthbertLab.github.io/music21j/releases/music21.debug',\n",
       "                }\n",
       "            });\n",
       "            rq(['music21'], function(music21) {\n",
       "                mp = new music21.miditools.MidiPlayer();\n",
       "                mp.addPlayer(\"#midiPlayerDiv7102\");\n",
       "                mp.base64Load(\"data:audio/midi;base64,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\");\n",
       "            });\n",
       "        }\n",
       "        if (typeof require === 'undefined') {\n",
       "            setTimeout(midiPlayerDiv7102_play, 2000);\n",
       "        } else {\n",
       "            midiPlayerDiv7102_play();\n",
       "        }\n",
       "        </script>"
      ],
      "text/plain": [
       "<IPython.core.display.HTML object>"
      ]
     },
     "metadata": {},
     "output_type": "display_data"
    }
   ],
   "source": [
    "midi.show('midi')"
   ]
  },
  {
   "cell_type": "code",
   "execution_count": 12,
   "metadata": {},
   "outputs": [
    {
     "name": "stdout",
     "output_type": "stream",
     "text": [
      "{0.0} <music21.metadata.Metadata object at 0x1698c47d0>\n",
      "{0.0} <music21.stream.Part 0x1698c4dd0>\n",
      "    {0.0} <music21.stream.Measure 1 offset=0.0>\n",
      "        {0.0} <music21.instrument.Piano 'Right Hand: Piano'>\n",
      "        {0.0} <music21.clef.TrebleClef>\n",
      "        {0.0} <music21.tempo.MetronomeMark Quarter=148>\n",
      "        {0.0} <music21.key.Key of B- major>\n",
      "        {0.0} <music21.meter.TimeSignature 4/4>\n",
      "        {0.0} <music21.note.Note B->\n",
      "        {2.0} <music21.note.Rest 2/3ql>\n",
      "        {2.6667} <music21.note.Note B->\n",
      "        {3.0} <music21.note.Note B->\n",
      "        {3.3333} <music21.note.Note B->\n",
      "        {3.6667} <music21.note.Note B->\n",
      "    {4.0} <music21.stream.Measure 2 offset=4.0>\n",
      "        {0.0} <music21.note.Note B->\n",
      "        {0.3333} <music21.note.Rest 1/3ql>\n",
      "        {0.6667} <music21.note.Note G#>\n",
      "        {1.0} <music21.note.Note B->\n",
      "        {2.3333} <music21.note.Rest 1/3ql>\n",
      "        {2.6667} <music21.note.Note B->\n",
      "        {3.0} <music21.note.Note B->\n",
      "        {3.3333} <music21.note.Note B->\n",
      "        {3.6667} <music21.note.Note B->\n",
      "    {8.0} <music21.stream.Measure 3 offset=8.0>\n",
      "        {0.0} <music21.note.Note B->\n",
      "        {0.3333} <music21.note.Rest 1/3ql>\n",
      "        {0.6667} <music21.note.Note G#>\n",
      "        {1.0} <music21.note.Note B->\n",
      "        {2.5} <music21.note.Rest 1/6ql>\n",
      "        {2.6667} <music21.note.Note B->\n",
      "        {3.0} <music21.note.Note B->\n",
      "        {3.3333} <music21.note.Note B->\n",
      "        {3.6667} <music21.note.Note B->\n",
      "    {12.0} <music21.stream.Measure 4 offset=12.0>\n",
      "        {0.0} <music21.note.Note B->\n",
      "        {0.25} <music21.note.Rest 16th>\n",
      "        {0.5} <music21.note.Note F>\n",
      "        {0.75} <music21.note.Note F>\n",
      "        {1.0} <music21.note.Note F>\n",
      "        {1.25} <music21.note.Rest 16th>\n",
      "        {1.5} <music21.note.Note F>\n",
      "        {1.75} <music21.note.Note F>\n",
      "        {2.0} <music21.note.Note F>\n",
      "        {2.25} <music21.note.Rest 16th>\n",
      "        {2.5} <music21.note.Note F>\n",
      "        {2.75} <music21.note.Note F>\n",
      "        {3.0} <music21.note.Note F>\n",
      "        {3.25} <music21.note.Rest 16th>\n",
      "        {3.5} <music21.note.Note F>\n",
      "        {3.75} <music21.note.Rest 16th>\n",
      "    {16.0} <music21.stream.Measure 5 offset=16.0>\n",
      "        {0.0} <music21.note.Note B->\n",
      "        {0.75} <music21.note.Rest 16th>\n",
      "        {1.0} <music21.note.Note F>\n",
      "        {2.5} <music21.note.Rest 16th>\n",
      "        {2.75} <music21.note.Note B->\n",
      "        {3.0} <music21.note.Note B->\n",
      "        {3.25} <music21.note.Note C>\n",
      "        {3.5} <music21.note.Note D>\n",
      "        {3.75} <music21.note.Note E->\n",
      "    {20.0} <music21.stream.Measure 6 offset=20.0>\n",
      "        {0.0} <music21.note.Note F>\n",
      "        {2.0} <music21.note.Rest eighth>\n",
      "        {2.5} <music21.note.Note F>\n",
      "        {2.75} <music21.note.Rest 16th>\n",
      "        {3.0} <music21.note.Note F>\n",
      "        {3.3333} <music21.note.Note F#>\n",
      "        {3.6667} <music21.note.Note G#>\n",
      "    {24.0} <music21.stream.Measure 7 offset=24.0>\n",
      "        {0.0} <music21.note.Note B->\n",
      "        {2.3333} <music21.note.Note B->\n",
      "        {2.6667} <music21.note.Note B->\n",
      "        {3.0} <music21.note.Note B->\n",
      "        {3.3333} <music21.note.Note G#>\n",
      "        {3.6667} <music21.note.Note F#>\n",
      "    {28.0} <music21.stream.Measure 8 offset=28.0>\n",
      "        {0.0} <music21.note.Note G#>\n",
      "        {0.3333} <music21.note.Rest 1/3ql>\n",
      "        {0.6667} <music21.note.Note F#>\n",
      "        {1.0} <music21.note.Note F>\n",
      "        {3.0} <music21.note.Note F>\n",
      "    {32.0} <music21.stream.Measure 9 offset=32.0>\n",
      "        {0.0} <music21.note.Note E->\n",
      "        {0.5} <music21.note.Note E->\n",
      "        {0.75} <music21.note.Note F>\n",
      "        {1.0} <music21.note.Note F#>\n",
      "        {3.0} <music21.note.Note F>\n",
      "        {3.5} <music21.note.Note E->\n",
      "    {36.0} <music21.stream.Measure 10 offset=36.0>\n",
      "        {0.0} <music21.note.Note C#>\n",
      "        {0.5} <music21.note.Note C#>\n",
      "        {0.75} <music21.note.Note E->\n",
      "        {1.0} <music21.note.Note F>\n",
      "        {3.0} <music21.note.Note E->\n",
      "        {3.5} <music21.note.Note C#>\n",
      "    {40.0} <music21.stream.Measure 11 offset=40.0>\n",
      "        {0.0} <music21.note.Note C>\n",
      "        {0.5} <music21.note.Note C>\n",
      "        {0.75} <music21.note.Note D>\n",
      "        {1.0} <music21.note.Note E>\n",
      "        {3.0} <music21.note.Note G>\n",
      "    {44.0} <music21.stream.Measure 12 offset=44.0>\n",
      "        {0.0} <music21.note.Note F>\n",
      "        {0.25} <music21.note.Rest 16th>\n",
      "        {0.5} <music21.note.Note F>\n",
      "        {0.75} <music21.note.Note F>\n",
      "        {1.0} <music21.note.Note F>\n",
      "        {1.25} <music21.note.Rest 16th>\n",
      "        {1.5} <music21.note.Note F>\n",
      "        {1.75} <music21.note.Note F>\n",
      "        {2.0} <music21.note.Note F>\n",
      "        {2.25} <music21.note.Rest 16th>\n",
      "        {2.5} <music21.note.Note F>\n",
      "        {2.75} <music21.note.Note F>\n",
      "        {3.0} <music21.note.Note F>\n",
      "        {3.25} <music21.note.Rest 16th>\n",
      "        {3.5} <music21.note.Note F>\n",
      "        {3.75} <music21.note.Rest 16th>\n",
      "    {48.0} <music21.stream.Measure 13 offset=48.0>\n",
      "        {0.0} <music21.note.Note B->\n",
      "        {0.75} <music21.note.Rest 16th>\n",
      "        {1.0} <music21.note.Note F>\n",
      "        {2.5} <music21.note.Rest 16th>\n",
      "        {2.75} <music21.note.Note B->\n",
      "        {3.0} <music21.note.Note B->\n",
      "        {3.25} <music21.note.Note C>\n",
      "        {3.5} <music21.note.Note D>\n",
      "        {3.75} <music21.note.Note E->\n",
      "    {52.0} <music21.stream.Measure 14 offset=52.0>\n",
      "        {0.0} <music21.note.Note F>\n",
      "        {2.0} <music21.note.Rest eighth>\n",
      "        {2.5} <music21.note.Note F>\n",
      "        {2.75} <music21.note.Rest 16th>\n",
      "        {3.0} <music21.note.Note F>\n",
      "        {3.3333} <music21.note.Note F#>\n",
      "        {3.6667} <music21.note.Note G#>\n",
      "    {56.0} <music21.stream.Measure 15 offset=56.0>\n",
      "        {0.0} <music21.note.Note B->\n",
      "        {3.0} <music21.note.Note C#>\n",
      "    {60.0} <music21.stream.Measure 16 offset=60.0>\n",
      "        {0.0} <music21.note.Note C>\n",
      "        {0.5} <music21.note.Rest eighth>\n",
      "        {1.0} <music21.note.Note A>\n",
      "        {2.75} <music21.note.Rest 16th>\n",
      "        {3.0} <music21.note.Note F>\n",
      "    {64.0} <music21.stream.Measure 17 offset=64.0>\n",
      "        {0.0} <music21.note.Note F#>\n",
      "        {2.25} <music21.note.Rest dotted-eighth>\n",
      "        {3.0} <music21.note.Note B->\n",
      "    {68.0} <music21.stream.Measure 18 offset=68.0>\n",
      "        {0.0} <music21.note.Note A>\n",
      "        {0.5} <music21.note.Rest eighth>\n",
      "        {1.0} <music21.note.Note F>\n",
      "        {2.75} <music21.note.Rest 16th>\n",
      "        {3.0} <music21.note.Note F>\n",
      "    {72.0} <music21.stream.Measure 19 offset=72.0>\n",
      "        {0.0} <music21.note.Note F#>\n",
      "        {2.0} <music21.note.Rest quarter>\n",
      "        {3.0} <music21.note.Note B->\n",
      "    {76.0} <music21.stream.Measure 20 offset=76.0>\n",
      "        {0.0} <music21.note.Note A>\n",
      "        {0.5} <music21.note.Rest eighth>\n",
      "        {1.0} <music21.note.Note F>\n",
      "        {3.0} <music21.note.Note D>\n",
      "    {80.0} <music21.stream.Measure 21 offset=80.0>\n",
      "        {0.0} <music21.note.Note E->\n",
      "        {2.0} <music21.note.Rest quarter>\n",
      "        {3.0} <music21.note.Note F#>\n",
      "    {84.0} <music21.stream.Measure 22 offset=84.0>\n",
      "        {0.0} <music21.note.Note F>\n",
      "        {0.5} <music21.note.Rest eighth>\n",
      "        {1.0} <music21.note.Note C#>\n",
      "        {3.0} <music21.note.Note B->\n",
      "    {88.0} <music21.stream.Measure 23 offset=88.0>\n",
      "        {0.0} <music21.note.Note C>\n",
      "        {0.5} <music21.note.Note C>\n",
      "        {0.75} <music21.note.Note D>\n",
      "        {1.0} <music21.note.Note E>\n",
      "        {3.0} <music21.note.Note G>\n",
      "    {92.0} <music21.stream.Measure 24 offset=92.0>\n",
      "        {0.0} <music21.note.Note F>\n",
      "        {0.25} <music21.note.Rest 16th>\n",
      "        {0.5} <music21.note.Note F>\n",
      "        {0.75} <music21.note.Note F>\n",
      "        {1.0} <music21.note.Note F>\n",
      "        {1.25} <music21.note.Rest 16th>\n",
      "        {1.5} <music21.note.Note F>\n",
      "        {1.75} <music21.note.Note F>\n",
      "        {2.0} <music21.note.Note F>\n",
      "        {2.25} <music21.note.Rest 16th>\n",
      "        {2.5} <music21.note.Note F>\n",
      "        {2.75} <music21.note.Note F>\n",
      "        {3.0} <music21.note.Note F>\n",
      "        {3.25} <music21.note.Rest 16th>\n",
      "        {3.5} <music21.note.Note F>\n",
      "        {3.75} <music21.note.Rest 16th>\n",
      "    {96.0} <music21.stream.Measure 25 offset=96.0>\n",
      "        {0.0} <music21.note.Note B->\n",
      "        {2.0} <music21.note.Rest 2/3ql>\n",
      "        {2.6667} <music21.note.Note B->\n",
      "        {3.0} <music21.note.Note B->\n",
      "        {3.3333} <music21.note.Note B->\n",
      "        {3.6667} <music21.note.Note B->\n",
      "    {100.0} <music21.stream.Measure 26 offset=100.0>\n",
      "        {0.0} <music21.note.Note B->\n",
      "        {0.3333} <music21.note.Rest 1/3ql>\n",
      "        {0.6667} <music21.note.Note G#>\n",
      "        {1.0} <music21.note.Note B->\n",
      "        {2.3333} <music21.note.Rest 1/3ql>\n",
      "        {2.6667} <music21.note.Note B->\n",
      "        {3.0} <music21.note.Note B->\n",
      "        {3.3333} <music21.note.Note B->\n",
      "        {3.6667} <music21.note.Note B->\n",
      "    {104.0} <music21.stream.Measure 27 offset=104.0>\n",
      "        {0.0} <music21.note.Note B->\n",
      "        {0.3333} <music21.note.Rest 1/3ql>\n",
      "        {0.6667} <music21.note.Note G#>\n",
      "        {1.0} <music21.note.Note B->\n",
      "        {2.5} <music21.note.Rest 1/6ql>\n",
      "        {2.6667} <music21.note.Note B->\n",
      "        {3.0} <music21.note.Note B->\n",
      "        {3.3333} <music21.note.Note B->\n",
      "        {3.6667} <music21.note.Note B->\n",
      "    {108.0} <music21.stream.Measure 28 offset=108.0>\n",
      "        {0.0} <music21.note.Note B->\n",
      "        {0.25} <music21.note.Rest 16th>\n",
      "        {0.5} <music21.note.Note F>\n",
      "        {0.75} <music21.note.Note F>\n",
      "        {1.0} <music21.note.Note F>\n",
      "        {1.25} <music21.note.Rest 16th>\n",
      "        {1.5} <music21.note.Note F>\n",
      "        {1.75} <music21.note.Note F>\n",
      "        {2.0} <music21.note.Note F>\n",
      "        {2.25} <music21.note.Rest 16th>\n",
      "        {2.5} <music21.note.Note F>\n",
      "        {2.75} <music21.note.Note F>\n",
      "        {3.0} <music21.note.Note F>\n",
      "        {3.25} <music21.note.Rest 16th>\n",
      "        {3.5} <music21.note.Note F>\n",
      "        {3.75} <music21.note.Rest 16th>\n",
      "    {112.0} <music21.stream.Measure 29 offset=112.0>\n",
      "        {0.0} <music21.note.Note B->\n",
      "        {0.75} <music21.note.Rest 16th>\n",
      "        {1.0} <music21.note.Note F>\n",
      "        {2.5} <music21.note.Rest 16th>\n",
      "        {2.75} <music21.note.Note B->\n",
      "        {3.0} <music21.note.Note B->\n",
      "        {3.25} <music21.note.Note C>\n",
      "        {3.5} <music21.note.Note D>\n",
      "        {3.75} <music21.note.Note E->\n",
      "    {116.0} <music21.stream.Measure 30 offset=116.0>\n",
      "        {0.0} <music21.note.Note F>\n",
      "        {2.0} <music21.note.Rest eighth>\n",
      "        {2.5} <music21.note.Note F>\n",
      "        {2.75} <music21.note.Rest 16th>\n",
      "        {3.0} <music21.note.Note F>\n",
      "        {3.3333} <music21.note.Note F#>\n",
      "        {3.6667} <music21.note.Note G#>\n",
      "    {120.0} <music21.stream.Measure 31 offset=120.0>\n",
      "        {0.0} <music21.note.Note B->\n",
      "        {2.3333} <music21.note.Note B->\n",
      "        {2.6667} <music21.note.Note B->\n",
      "        {3.0} <music21.note.Note B->\n",
      "        {3.3333} <music21.note.Note G#>\n",
      "        {3.6667} <music21.note.Note F#>\n",
      "    {124.0} <music21.stream.Measure 32 offset=124.0>\n",
      "        {0.0} <music21.note.Note G#>\n",
      "        {0.3333} <music21.note.Rest 1/3ql>\n",
      "        {0.6667} <music21.note.Note F#>\n",
      "        {1.0} <music21.note.Note F>\n",
      "        {3.0} <music21.note.Note F>\n",
      "    {128.0} <music21.stream.Measure 33 offset=128.0>\n",
      "        {0.0} <music21.note.Note E->\n",
      "        {0.5} <music21.note.Note E->\n",
      "        {0.75} <music21.note.Note F>\n",
      "        {1.0} <music21.note.Note F#>\n",
      "        {3.0} <music21.note.Note F>\n",
      "        {3.5} <music21.note.Note E->\n",
      "    {132.0} <music21.stream.Measure 34 offset=132.0>\n",
      "        {0.0} <music21.note.Note C#>\n",
      "        {0.5} <music21.note.Note C#>\n",
      "        {0.75} <music21.note.Note E->\n",
      "        {1.0} <music21.note.Note F>\n",
      "        {3.0} <music21.note.Note E->\n",
      "        {3.5} <music21.note.Note C#>\n",
      "    {136.0} <music21.stream.Measure 35 offset=136.0>\n",
      "        {0.0} <music21.note.Note C>\n",
      "        {0.5} <music21.note.Note C>\n",
      "        {0.75} <music21.note.Note D>\n",
      "        {1.0} <music21.note.Note E>\n",
      "        {3.0} <music21.note.Note G>\n",
      "    {140.0} <music21.stream.Measure 36 offset=140.0>\n",
      "        {0.0} <music21.note.Note F>\n",
      "        {0.25} <music21.note.Rest 16th>\n",
      "        {0.5} <music21.note.Note F>\n",
      "        {0.75} <music21.note.Note F>\n",
      "        {1.0} <music21.note.Note F>\n",
      "        {1.25} <music21.note.Rest 16th>\n",
      "        {1.5} <music21.note.Note F>\n",
      "        {1.75} <music21.note.Note F>\n",
      "        {2.0} <music21.note.Note F>\n",
      "        {2.25} <music21.note.Rest 16th>\n",
      "        {2.5} <music21.note.Note F>\n",
      "        {2.75} <music21.note.Note F>\n",
      "        {3.0} <music21.note.Note F>\n",
      "        {3.25} <music21.note.Rest 16th>\n",
      "        {3.5} <music21.note.Note F>\n",
      "        {3.75} <music21.note.Rest 16th>\n",
      "    {144.0} <music21.stream.Measure 37 offset=144.0>\n",
      "        {0.0} <music21.note.Note B->\n",
      "        {0.75} <music21.note.Rest 16th>\n",
      "        {1.0} <music21.note.Note F>\n",
      "        {2.5} <music21.note.Rest 16th>\n",
      "        {2.75} <music21.note.Note B->\n",
      "        {3.0} <music21.note.Note B->\n",
      "        {3.25} <music21.note.Note C>\n",
      "        {3.5} <music21.note.Note D>\n",
      "        {3.75} <music21.note.Note E->\n",
      "    {148.0} <music21.stream.Measure 38 offset=148.0>\n",
      "        {0.0} <music21.note.Note F>\n",
      "        {2.0} <music21.note.Rest eighth>\n",
      "        {2.5} <music21.note.Note F>\n",
      "        {2.75} <music21.note.Rest 16th>\n",
      "        {3.0} <music21.note.Note F>\n",
      "        {3.3333} <music21.note.Note F#>\n",
      "        {3.6667} <music21.note.Note G#>\n",
      "    {152.0} <music21.stream.Measure 39 offset=152.0>\n",
      "        {0.0} <music21.note.Note B->\n",
      "        {3.0} <music21.note.Note C#>\n",
      "    {156.0} <music21.stream.Measure 40 offset=156.0>\n",
      "        {0.0} <music21.note.Note C>\n",
      "        {0.5} <music21.note.Rest eighth>\n",
      "        {1.0} <music21.note.Note A>\n",
      "        {2.75} <music21.note.Rest 16th>\n",
      "        {3.0} <music21.note.Note F>\n",
      "    {160.0} <music21.stream.Measure 41 offset=160.0>\n",
      "        {0.0} <music21.note.Note F#>\n",
      "        {2.25} <music21.note.Rest dotted-eighth>\n",
      "        {3.0} <music21.note.Note B->\n",
      "    {164.0} <music21.stream.Measure 42 offset=164.0>\n",
      "        {0.0} <music21.note.Note A>\n",
      "        {0.5} <music21.note.Rest eighth>\n",
      "        {1.0} <music21.note.Note F>\n",
      "        {2.75} <music21.note.Rest 16th>\n",
      "        {3.0} <music21.note.Note F>\n",
      "    {168.0} <music21.stream.Measure 43 offset=168.0>\n",
      "        {0.0} <music21.note.Note F#>\n",
      "        {2.0} <music21.note.Rest quarter>\n",
      "        {3.0} <music21.note.Note B->\n",
      "    {172.0} <music21.stream.Measure 44 offset=172.0>\n",
      "        {0.0} <music21.note.Note A>\n",
      "        {0.5} <music21.note.Rest eighth>\n",
      "        {1.0} <music21.note.Note F>\n",
      "        {3.0} <music21.note.Note D>\n",
      "    {176.0} <music21.stream.Measure 45 offset=176.0>\n",
      "        {0.0} <music21.note.Note E->\n",
      "        {2.0} <music21.note.Rest quarter>\n",
      "        {3.0} <music21.note.Note F#>\n",
      "    {180.0} <music21.stream.Measure 46 offset=180.0>\n",
      "        {0.0} <music21.note.Note F>\n",
      "        {0.5} <music21.note.Rest eighth>\n",
      "        {1.0} <music21.note.Note C#>\n",
      "        {3.0} <music21.note.Note B->\n",
      "    {184.0} <music21.stream.Measure 47 offset=184.0>\n",
      "        {0.0} <music21.note.Note C>\n",
      "        {0.5} <music21.note.Note C>\n",
      "        {0.75} <music21.note.Note D>\n",
      "        {1.0} <music21.note.Note E>\n",
      "        {3.0} <music21.note.Note G>\n",
      "    {188.0} <music21.stream.Measure 48 offset=188.0>\n",
      "        {0.0} <music21.note.Note F>\n",
      "        {0.25} <music21.note.Rest 16th>\n",
      "        {0.5} <music21.note.Note F>\n",
      "        {0.75} <music21.note.Note F>\n",
      "        {1.0} <music21.note.Note F>\n",
      "        {1.25} <music21.note.Rest 16th>\n",
      "        {1.5} <music21.note.Note F>\n",
      "        {1.75} <music21.note.Note F>\n",
      "        {2.0} <music21.note.Note F>\n",
      "        {2.25} <music21.note.Rest 16th>\n",
      "        {2.5} <music21.note.Note F>\n",
      "        {2.75} <music21.note.Note F>\n",
      "        {3.0} <music21.note.Note F>\n",
      "        {3.25} <music21.note.Rest 16th>\n",
      "        {3.5} <music21.note.Note F>\n",
      "        {3.8333} <music21.note.Rest 1/6ql>\n",
      "        {4.0} <music21.bar.Barline type=final>\n",
      "{0.0} <music21.stream.Part 0x169b2c650>\n",
      "    {0.0} <music21.stream.Measure 1 offset=0.0>\n",
      "        {0.0} <music21.instrument.Piano 'Left Hand: Piano'>\n",
      "        {0.0} <music21.clef.TrebleClef>\n",
      "        {0.0} <music21.tempo.MetronomeMark Quarter=148>\n",
      "        {0.0} <music21.key.Key of B- major>\n",
      "        {0.0} <music21.meter.TimeSignature 4/4>\n",
      "        {0.0} <music21.note.Note D>\n",
      "        {2.0} <music21.note.Rest 2/3ql>\n",
      "        {2.6667} <music21.note.Note D>\n",
      "        {3.0} <music21.note.Note D>\n",
      "        {3.3333} <music21.note.Note D>\n",
      "        {3.6667} <music21.note.Note D>\n",
      "    {4.0} <music21.stream.Measure 2 offset=4.0>\n",
      "        {0.0} <music21.note.Note C>\n",
      "        {0.3333} <music21.note.Rest 1/3ql>\n",
      "        {0.6667} <music21.note.Note C>\n",
      "        {1.0} <music21.note.Note C>\n",
      "        {2.25} <music21.note.Rest dotted-eighth>\n",
      "        {3.0} <music21.note.Note C>\n",
      "        {3.3333} <music21.note.Note C>\n",
      "        {3.6667} <music21.note.Note C>\n",
      "    {8.0} <music21.stream.Measure 3 offset=8.0>\n",
      "        {0.0} <music21.note.Note C#>\n",
      "        {0.3333} <music21.note.Rest 1/3ql>\n",
      "        {0.6667} <music21.note.Note C#>\n",
      "        {1.0} <music21.note.Note C#>\n",
      "        {2.5} <music21.note.Rest 1/6ql>\n",
      "        {2.6667} <music21.note.Note C#>\n",
      "        {3.0} <music21.note.Note C#>\n",
      "        {3.3333} <music21.note.Note C#>\n",
      "        {3.6667} <music21.note.Note C#>\n",
      "    {12.0} <music21.stream.Measure 4 offset=12.0>\n",
      "        {0.0} <music21.note.Note C#>\n",
      "        {0.5} <music21.note.Note A>\n",
      "        {0.75} <music21.note.Note A>\n",
      "        {1.0} <music21.note.Note A>\n",
      "        {1.25} <music21.note.Rest 16th>\n",
      "        {1.5} <music21.note.Note A>\n",
      "        {1.75} <music21.note.Note A>\n",
      "        {2.0} <music21.note.Note A>\n",
      "        {2.25} <music21.note.Rest 16th>\n",
      "        {2.5} <music21.note.Note A>\n",
      "        {2.75} <music21.note.Note A>\n",
      "        {3.0} <music21.note.Note A>\n",
      "        {3.25} <music21.note.Rest 16th>\n",
      "        {3.5} <music21.note.Note A>\n",
      "        {3.75} <music21.note.Rest 16th>\n",
      "    {16.0} <music21.stream.Measure 5 offset=16.0>\n",
      "        {0.0} <music21.note.Note D>\n",
      "        {0.75} <music21.note.Rest 16th>\n",
      "        {1.0} <music21.note.Note D>\n",
      "        {1.3333} <music21.note.Note D>\n",
      "        {1.6667} <music21.note.Note C>\n",
      "        {2.0} <music21.note.Note D>\n",
      "        {2.5} <music21.note.Rest 16th>\n",
      "        {2.75} <music21.note.Note D>\n",
      "        {3.0} <music21.note.Note D>\n",
      "        {3.25} <music21.note.Note E->\n",
      "        {3.5} <music21.note.Note F>\n",
      "        {3.75} <music21.note.Note G>\n",
      "    {20.0} <music21.stream.Measure 6 offset=20.0>\n",
      "        {0.0} <music21.note.Note G#>\n",
      "        {0.75} <music21.note.Note B->\n",
      "        {1.0} <music21.note.Note B->\n",
      "        {1.25} <music21.note.Note C>\n",
      "        {1.5} <music21.note.Note D>\n",
      "        {1.75} <music21.note.Note E->\n",
      "        {2.0} <music21.note.Note F>\n",
      "        {2.5} <music21.note.Note F>\n",
      "        {3.0} <music21.note.Note G#>\n",
      "        {3.3333} <music21.note.Note B->\n",
      "        {3.6667} <music21.note.Note C>\n",
      "    {24.0} <music21.stream.Measure 7 offset=24.0>\n",
      "        {0.0} <music21.note.Note C#>\n",
      "        {0.75} <music21.note.Note F#>\n",
      "        {1.0} <music21.note.Note F#>\n",
      "        {1.25} <music21.note.Note G#>\n",
      "        {1.5} <music21.note.Note B->\n",
      "        {1.75} <music21.note.Note C>\n",
      "        {2.0} <music21.note.Note C#>\n",
      "        {2.5} <music21.note.Note C#>\n",
      "        {3.0} <music21.note.Note C#>\n",
      "        {3.3333} <music21.note.Note C>\n",
      "        {3.6667} <music21.note.Note B->\n",
      "    {28.0} <music21.stream.Measure 8 offset=28.0>\n",
      "        {0.0} <music21.note.Note C#>\n",
      "        {0.3333} <music21.note.Rest 1/3ql>\n",
      "        {0.6667} <music21.note.Note G#>\n",
      "        {1.0} <music21.note.Note G#>\n",
      "        {1.3333} <music21.note.Note G#>\n",
      "        {1.6667} <music21.note.Note F#>\n",
      "        {2.0} <music21.note.Note G#>\n",
      "        {2.3333} <music21.note.Rest 1/3ql>\n",
      "        {2.6667} <music21.note.Note G#>\n",
      "        {3.0} <music21.note.Note G#>\n",
      "        {3.3333} <music21.note.Note F#>\n",
      "        {3.6667} <music21.note.Note G#>\n",
      "    {32.0} <music21.stream.Measure 9 offset=32.0>\n",
      "        {0.0} <music21.note.Note F#>\n",
      "        {0.6667} <music21.chord.Chord F#4 F4>\n",
      "        {1.0} <music21.note.Note F#>\n",
      "        {1.6667} <music21.chord.Chord F#4 G#4>\n",
      "        {2.0} <music21.note.Note B->\n",
      "        {3.0} <music21.note.Note G#>\n",
      "        {3.5} <music21.note.Note F#>\n",
      "    {36.0} <music21.stream.Measure 10 offset=36.0>\n",
      "        {0.0} <music21.note.Note F>\n",
      "        {0.6667} <music21.chord.Chord F4 E-4>\n",
      "        {1.0} <music21.note.Note F>\n",
      "        {1.6667} <music21.chord.Chord F4 F#4>\n",
      "        {2.0} <music21.note.Note G#>\n",
      "        {3.0} <music21.note.Note F#>\n",
      "        {3.5} <music21.note.Note F>\n",
      "    {40.0} <music21.stream.Measure 11 offset=40.0>\n",
      "        {0.0} <music21.note.Note E>\n",
      "        {1.0} <music21.note.Note E>\n",
      "        {1.75} <music21.note.Note F>\n",
      "        {2.0} <music21.note.Note G>\n",
      "        {2.6667} <music21.chord.Chord G4 A4>\n",
      "        {3.0} <music21.note.Note B->\n",
      "        {3.5} <music21.note.Note C>\n",
      "    {44.0} <music21.stream.Measure 12 offset=44.0>\n",
      "        {0.0} <music21.note.Note A>\n",
      "        {0.25} <music21.note.Rest 16th>\n",
      "        {0.5} <music21.note.Note A>\n",
      "        {0.75} <music21.note.Note A>\n",
      "        {1.0} <music21.note.Note A>\n",
      "        {1.25} <music21.note.Rest 16th>\n",
      "        {1.5} <music21.note.Note A>\n",
      "        {1.75} <music21.note.Note A>\n",
      "        {2.0} <music21.note.Note A>\n",
      "        {2.25} <music21.note.Rest 16th>\n",
      "        {2.5} <music21.note.Note A>\n",
      "        {2.75} <music21.note.Note A>\n",
      "        {3.0} <music21.note.Note A>\n",
      "        {3.25} <music21.note.Rest 16th>\n",
      "        {3.5} <music21.note.Note A>\n",
      "        {3.75} <music21.note.Rest 16th>\n",
      "    {48.0} <music21.stream.Measure 13 offset=48.0>\n",
      "        {0.0} <music21.note.Note D>\n",
      "        {0.75} <music21.note.Rest 16th>\n",
      "        {1.0} <music21.note.Note D>\n",
      "        {1.3333} <music21.note.Note D>\n",
      "        {1.6667} <music21.note.Note C>\n",
      "        {2.0} <music21.note.Note D>\n",
      "        {2.5} <music21.note.Rest 16th>\n",
      "        {2.75} <music21.note.Note D>\n",
      "        {3.0} <music21.note.Note D>\n",
      "        {3.25} <music21.note.Note E->\n",
      "        {3.5} <music21.note.Note F>\n",
      "        {3.75} <music21.note.Note G>\n",
      "    {52.0} <music21.stream.Measure 14 offset=52.0>\n",
      "        {0.0} <music21.note.Note G#>\n",
      "        {0.75} <music21.note.Note B->\n",
      "        {1.0} <music21.note.Note B->\n",
      "        {1.25} <music21.note.Note C>\n",
      "        {1.5} <music21.note.Note D>\n",
      "        {1.75} <music21.note.Note E->\n",
      "        {2.0} <music21.note.Note F>\n",
      "        {2.5} <music21.note.Note F>\n",
      "        {3.0} <music21.note.Note G#>\n",
      "        {3.3333} <music21.note.Note B->\n",
      "        {3.6667} <music21.note.Note C>\n",
      "    {56.0} <music21.stream.Measure 15 offset=56.0>\n",
      "        {0.0} <music21.note.Note C#>\n",
      "        {3.0} <music21.note.Note E>\n",
      "    {60.0} <music21.stream.Measure 16 offset=60.0>\n",
      "        {0.0} <music21.note.Note E->\n",
      "        {0.5} <music21.note.Rest eighth>\n",
      "        {1.0} <music21.note.Note C>\n",
      "        {2.75} <music21.note.Rest 16th>\n",
      "        {3.0} <music21.note.Note A>\n",
      "    {64.0} <music21.stream.Measure 17 offset=64.0>\n",
      "        {0.0} <music21.note.Note B>\n",
      "        {2.25} <music21.note.Rest dotted-eighth>\n",
      "        {3.0} <music21.note.Note C#>\n",
      "    {68.0} <music21.stream.Measure 18 offset=68.0>\n",
      "        {0.0} <music21.note.Note C>\n",
      "        {0.5} <music21.note.Rest eighth>\n",
      "        {1.0} <music21.note.Note A>\n",
      "        {2.75} <music21.note.Rest 16th>\n",
      "        {3.0} <music21.note.Note A>\n",
      "    {72.0} <music21.stream.Measure 19 offset=72.0>\n",
      "        {0.0} <music21.note.Note B>\n",
      "        {2.0} <music21.note.Rest quarter>\n",
      "        {3.0} <music21.note.Note C#>\n",
      "    {76.0} <music21.stream.Measure 20 offset=76.0>\n",
      "        {0.0} <music21.note.Note C>\n",
      "        {0.5} <music21.note.Rest eighth>\n",
      "        {1.0} <music21.note.Note A>\n",
      "        {3.0} <music21.note.Note A>\n",
      "    {80.0} <music21.stream.Measure 21 offset=80.0>\n",
      "        {0.0} <music21.note.Note F#>\n",
      "        {2.0} <music21.note.Rest quarter>\n",
      "        {3.0} <music21.note.Note B>\n",
      "    {84.0} <music21.stream.Measure 22 offset=84.0>\n",
      "        {0.0} <music21.note.Note B->\n",
      "        {0.5} <music21.note.Rest eighth>\n",
      "        {1.0} <music21.note.Note F>\n",
      "        {3.0} <music21.note.Note C#>\n",
      "    {88.0} <music21.stream.Measure 23 offset=88.0>\n",
      "        {0.0} <music21.note.Note E>\n",
      "        {1.0} <music21.note.Note E>\n",
      "        {1.75} <music21.note.Note F>\n",
      "        {2.0} <music21.note.Note G>\n",
      "        {2.6667} <music21.chord.Chord G4 A4>\n",
      "        {3.0} <music21.note.Note B->\n",
      "        {3.5} <music21.note.Note C>\n",
      "    {92.0} <music21.stream.Measure 24 offset=92.0>\n",
      "        {0.0} <music21.note.Note A>\n",
      "        {0.25} <music21.note.Rest 16th>\n",
      "        {0.5} <music21.note.Note A>\n",
      "        {0.75} <music21.note.Note A>\n",
      "        {1.0} <music21.note.Note A>\n",
      "        {1.25} <music21.note.Rest 16th>\n",
      "        {1.5} <music21.note.Note A>\n",
      "        {1.75} <music21.note.Note A>\n",
      "        {2.0} <music21.note.Note A>\n",
      "        {2.25} <music21.note.Rest 16th>\n",
      "        {2.5} <music21.note.Note A>\n",
      "        {2.75} <music21.note.Note A>\n",
      "        {3.0} <music21.note.Note A>\n",
      "        {3.25} <music21.note.Rest 16th>\n",
      "        {3.5} <music21.note.Note A>\n",
      "        {3.75} <music21.note.Rest 16th>\n",
      "    {96.0} <music21.stream.Measure 25 offset=96.0>\n",
      "        {0.0} <music21.note.Note D>\n",
      "        {2.0} <music21.note.Rest 2/3ql>\n",
      "        {2.6667} <music21.note.Note D>\n",
      "        {3.0} <music21.note.Note D>\n",
      "        {3.3333} <music21.note.Note D>\n",
      "        {3.6667} <music21.note.Note D>\n",
      "    {100.0} <music21.stream.Measure 26 offset=100.0>\n",
      "        {0.0} <music21.note.Note C>\n",
      "        {0.3333} <music21.note.Rest 1/3ql>\n",
      "        {0.6667} <music21.note.Note C>\n",
      "        {1.0} <music21.note.Note C>\n",
      "        {2.25} <music21.note.Rest dotted-eighth>\n",
      "        {3.0} <music21.note.Note C>\n",
      "        {3.3333} <music21.note.Note C>\n",
      "        {3.6667} <music21.note.Note C>\n",
      "    {104.0} <music21.stream.Measure 27 offset=104.0>\n",
      "        {0.0} <music21.note.Note C#>\n",
      "        {0.3333} <music21.note.Rest 1/3ql>\n",
      "        {0.6667} <music21.note.Note C#>\n",
      "        {1.0} <music21.note.Note C#>\n",
      "        {2.5} <music21.note.Rest 1/6ql>\n",
      "        {2.6667} <music21.note.Note C#>\n",
      "        {3.0} <music21.note.Note C#>\n",
      "        {3.3333} <music21.note.Note C#>\n",
      "        {3.6667} <music21.note.Note C#>\n",
      "    {108.0} <music21.stream.Measure 28 offset=108.0>\n",
      "        {0.0} <music21.note.Note C#>\n",
      "        {0.5} <music21.note.Note A>\n",
      "        {0.75} <music21.note.Note A>\n",
      "        {1.0} <music21.note.Note A>\n",
      "        {1.25} <music21.note.Rest 16th>\n",
      "        {1.5} <music21.note.Note A>\n",
      "        {1.75} <music21.note.Note A>\n",
      "        {2.0} <music21.note.Note A>\n",
      "        {2.25} <music21.note.Rest 16th>\n",
      "        {2.5} <music21.note.Note A>\n",
      "        {2.75} <music21.note.Note A>\n",
      "        {3.0} <music21.note.Note A>\n",
      "        {3.25} <music21.note.Rest 16th>\n",
      "        {3.5} <music21.note.Note A>\n",
      "        {3.75} <music21.note.Rest 16th>\n",
      "    {112.0} <music21.stream.Measure 29 offset=112.0>\n",
      "        {0.0} <music21.note.Note D>\n",
      "        {0.75} <music21.note.Rest 16th>\n",
      "        {1.0} <music21.note.Note D>\n",
      "        {1.3333} <music21.note.Note D>\n",
      "        {1.6667} <music21.note.Note C>\n",
      "        {2.0} <music21.note.Note D>\n",
      "        {2.5} <music21.note.Rest 16th>\n",
      "        {2.75} <music21.note.Note D>\n",
      "        {3.0} <music21.note.Note D>\n",
      "        {3.25} <music21.note.Note E->\n",
      "        {3.5} <music21.note.Note F>\n",
      "        {3.75} <music21.note.Note G>\n",
      "    {116.0} <music21.stream.Measure 30 offset=116.0>\n",
      "        {0.0} <music21.note.Note G#>\n",
      "        {0.75} <music21.note.Note B->\n",
      "        {1.0} <music21.note.Note B->\n",
      "        {1.25} <music21.note.Note C>\n",
      "        {1.5} <music21.note.Note D>\n",
      "        {1.75} <music21.note.Note E->\n",
      "        {2.0} <music21.note.Note F>\n",
      "        {2.5} <music21.note.Note F>\n",
      "        {3.0} <music21.note.Note G#>\n",
      "        {3.3333} <music21.note.Note B->\n",
      "        {3.6667} <music21.note.Note C>\n",
      "    {120.0} <music21.stream.Measure 31 offset=120.0>\n",
      "        {0.0} <music21.note.Note C#>\n",
      "        {0.75} <music21.note.Note F#>\n",
      "        {1.0} <music21.note.Note F#>\n",
      "        {1.25} <music21.note.Note G#>\n",
      "        {1.5} <music21.note.Note B->\n",
      "        {1.75} <music21.note.Note C>\n",
      "        {2.0} <music21.note.Note C#>\n",
      "        {2.5} <music21.note.Note C#>\n",
      "        {3.0} <music21.note.Note C#>\n",
      "        {3.3333} <music21.note.Note C>\n",
      "        {3.6667} <music21.note.Note B->\n",
      "    {124.0} <music21.stream.Measure 32 offset=124.0>\n",
      "        {0.0} <music21.note.Note C#>\n",
      "        {0.3333} <music21.note.Rest 1/3ql>\n",
      "        {0.6667} <music21.note.Note G#>\n",
      "        {1.0} <music21.note.Note G#>\n",
      "        {1.3333} <music21.note.Note G#>\n",
      "        {1.6667} <music21.note.Note F#>\n",
      "        {2.0} <music21.note.Note G#>\n",
      "        {2.3333} <music21.note.Rest 1/3ql>\n",
      "        {2.6667} <music21.note.Note G#>\n",
      "        {3.0} <music21.note.Note G#>\n",
      "        {3.3333} <music21.note.Note F#>\n",
      "        {3.6667} <music21.note.Note G#>\n",
      "    {128.0} <music21.stream.Measure 33 offset=128.0>\n",
      "        {0.0} <music21.note.Note F#>\n",
      "        {0.6667} <music21.chord.Chord F#4 F4>\n",
      "        {1.0} <music21.note.Note F#>\n",
      "        {1.6667} <music21.chord.Chord F#4 G#4>\n",
      "        {2.0} <music21.note.Note B->\n",
      "        {3.0} <music21.note.Note G#>\n",
      "        {3.5} <music21.note.Note F#>\n",
      "    {132.0} <music21.stream.Measure 34 offset=132.0>\n",
      "        {0.0} <music21.note.Note F>\n",
      "        {0.6667} <music21.chord.Chord F4 E-4>\n",
      "        {1.0} <music21.note.Note F>\n",
      "        {1.6667} <music21.chord.Chord F4 F#4>\n",
      "        {2.0} <music21.note.Note G#>\n",
      "        {3.0} <music21.note.Note F#>\n",
      "        {3.5} <music21.note.Note F>\n",
      "    {136.0} <music21.stream.Measure 35 offset=136.0>\n",
      "        {0.0} <music21.note.Note E>\n",
      "        {1.0} <music21.note.Note E>\n",
      "        {1.75} <music21.note.Note F>\n",
      "        {2.0} <music21.note.Note G>\n",
      "        {2.6667} <music21.chord.Chord G4 A4>\n",
      "        {3.0} <music21.note.Note B->\n",
      "        {3.5} <music21.note.Note C>\n",
      "    {140.0} <music21.stream.Measure 36 offset=140.0>\n",
      "        {0.0} <music21.note.Note A>\n",
      "        {0.25} <music21.note.Rest 16th>\n",
      "        {0.5} <music21.note.Note A>\n",
      "        {0.75} <music21.note.Note A>\n",
      "        {1.0} <music21.note.Note A>\n",
      "        {1.25} <music21.note.Rest 16th>\n",
      "        {1.5} <music21.note.Note A>\n",
      "        {1.75} <music21.note.Note A>\n",
      "        {2.0} <music21.note.Note A>\n",
      "        {2.25} <music21.note.Rest 16th>\n",
      "        {2.5} <music21.note.Note A>\n",
      "        {2.75} <music21.note.Note A>\n",
      "        {3.0} <music21.note.Note A>\n",
      "        {3.25} <music21.note.Rest 16th>\n",
      "        {3.5} <music21.note.Note A>\n",
      "        {3.75} <music21.note.Rest 16th>\n",
      "    {144.0} <music21.stream.Measure 37 offset=144.0>\n",
      "        {0.0} <music21.note.Note D>\n",
      "        {0.75} <music21.note.Rest 16th>\n",
      "        {1.0} <music21.note.Note D>\n",
      "        {1.3333} <music21.note.Note D>\n",
      "        {1.6667} <music21.note.Note C>\n",
      "        {2.0} <music21.note.Note D>\n",
      "        {2.5} <music21.note.Rest 16th>\n",
      "        {2.75} <music21.note.Note D>\n",
      "        {3.0} <music21.note.Note D>\n",
      "        {3.25} <music21.note.Note E->\n",
      "        {3.5} <music21.note.Note F>\n",
      "        {3.75} <music21.note.Note G>\n",
      "    {148.0} <music21.stream.Measure 38 offset=148.0>\n",
      "        {0.0} <music21.note.Note G#>\n",
      "        {0.75} <music21.note.Note B->\n",
      "        {1.0} <music21.note.Note B->\n",
      "        {1.25} <music21.note.Note C>\n",
      "        {1.5} <music21.note.Note D>\n",
      "        {1.75} <music21.note.Note E->\n",
      "        {2.0} <music21.note.Note F>\n",
      "        {2.5} <music21.note.Note F>\n",
      "        {3.0} <music21.note.Note G#>\n",
      "        {3.3333} <music21.note.Note B->\n",
      "        {3.6667} <music21.note.Note C>\n",
      "    {152.0} <music21.stream.Measure 39 offset=152.0>\n",
      "        {0.0} <music21.note.Note C#>\n",
      "        {3.0} <music21.note.Note E>\n",
      "    {156.0} <music21.stream.Measure 40 offset=156.0>\n",
      "        {0.0} <music21.note.Note E->\n",
      "        {0.5} <music21.note.Rest eighth>\n",
      "        {1.0} <music21.note.Note C>\n",
      "        {2.75} <music21.note.Rest 16th>\n",
      "        {3.0} <music21.note.Note A>\n",
      "    {160.0} <music21.stream.Measure 41 offset=160.0>\n",
      "        {0.0} <music21.note.Note B>\n",
      "        {2.25} <music21.note.Rest dotted-eighth>\n",
      "        {3.0} <music21.note.Note C#>\n",
      "    {164.0} <music21.stream.Measure 42 offset=164.0>\n",
      "        {0.0} <music21.note.Note C>\n",
      "        {0.5} <music21.note.Rest eighth>\n",
      "        {1.0} <music21.note.Note A>\n",
      "        {2.75} <music21.note.Rest 16th>\n",
      "        {3.0} <music21.note.Note A>\n",
      "    {168.0} <music21.stream.Measure 43 offset=168.0>\n",
      "        {0.0} <music21.note.Note B>\n",
      "        {2.0} <music21.note.Rest quarter>\n",
      "        {3.0} <music21.note.Note C#>\n",
      "    {172.0} <music21.stream.Measure 44 offset=172.0>\n",
      "        {0.0} <music21.note.Note C>\n",
      "        {0.5} <music21.note.Rest eighth>\n",
      "        {1.0} <music21.note.Note A>\n",
      "        {3.0} <music21.note.Note A>\n",
      "    {176.0} <music21.stream.Measure 45 offset=176.0>\n",
      "        {0.0} <music21.note.Note F#>\n",
      "        {2.0} <music21.note.Rest quarter>\n",
      "        {3.0} <music21.note.Note B>\n",
      "    {180.0} <music21.stream.Measure 46 offset=180.0>\n",
      "        {0.0} <music21.note.Note B->\n",
      "        {0.5} <music21.note.Rest eighth>\n",
      "        {1.0} <music21.note.Note F>\n",
      "        {3.0} <music21.note.Note C#>\n",
      "    {184.0} <music21.stream.Measure 47 offset=184.0>\n",
      "        {0.0} <music21.note.Note E>\n",
      "        {1.0} <music21.note.Note E>\n",
      "        {1.75} <music21.note.Note F>\n",
      "        {2.0} <music21.note.Note G>\n",
      "        {2.6667} <music21.chord.Chord G4 A4>\n",
      "        {3.0} <music21.note.Note B->\n",
      "        {3.5} <music21.note.Note C>\n",
      "    {188.0} <music21.stream.Measure 48 offset=188.0>\n",
      "        {0.0} <music21.note.Note A>\n",
      "        {0.25} <music21.note.Rest 16th>\n",
      "        {0.5} <music21.note.Note A>\n",
      "        {0.75} <music21.note.Note A>\n",
      "        {1.0} <music21.note.Note A>\n",
      "        {1.25} <music21.note.Rest 16th>\n",
      "        {1.5} <music21.note.Note A>\n",
      "        {1.75} <music21.note.Note A>\n",
      "        {2.0} <music21.note.Note A>\n",
      "        {2.25} <music21.note.Rest 16th>\n",
      "        {2.5} <music21.note.Note A>\n",
      "        {2.75} <music21.note.Note A>\n",
      "        {3.0} <music21.note.Note A>\n",
      "        {3.25} <music21.note.Rest 16th>\n",
      "        {3.5} <music21.note.Note A>\n",
      "        {3.8333} <music21.note.Rest 1/6ql>\n",
      "        {4.0} <music21.bar.Barline type=final>\n"
     ]
    }
   ],
   "source": [
    "midi.show('text')"
   ]
  },
  {
   "cell_type": "code",
   "execution_count": 13,
   "metadata": {},
   "outputs": [
    {
     "name": "stderr",
     "output_type": "stream",
     "text": [
      "/opt/anaconda3/lib/python3.11/site-packages/music21/stream/base.py:3689: Music21DeprecationWarning: .flat is deprecated.  Call .flatten() instead\n",
      "  return self.iter().getElementsByClass(classFilterList)\n"
     ]
    }
   ],
   "source": [
    "from music21 import stream\n",
    "\n",
    "# Assuming 'stream_object' is your music21 Stream object\n",
    "stream_object = stream.Stream()  # Replace this with your actual Stream object\n",
    "\n",
    "# Flatten the stream properly by iterating over the elements and extracting notes\n",
    "elements_to_parse = [element for element in stream_object.flat.getElementsByClass('Note')]\n",
    "\n",
    "# Now 'elements_to_parse' contains the notes\n",
    "for note in elements_to_parse:\n",
    "    print(note)\n",
    "\n",
    "\n"
   ]
  },
  {
   "cell_type": "code",
   "execution_count": 14,
   "metadata": {},
   "outputs": [
    {
     "data": {
      "text/plain": [
       "0"
      ]
     },
     "execution_count": 14,
     "metadata": {},
     "output_type": "execute_result"
    }
   ],
   "source": [
    "len(elements_to_parse)"
   ]
  },
  {
   "cell_type": "code",
   "execution_count": 15,
   "metadata": {},
   "outputs": [],
   "source": [
    "for e in elements_to_parse:\n",
    "    print(e, e.offset)"
   ]
  },
  {
   "cell_type": "code",
   "execution_count": 16,
   "metadata": {},
   "outputs": [],
   "source": [
    "notes_demo = []\n",
    "\n",
    "for ele in elements_to_parse:\n",
    "    # If the element is a Note,  then store it's pitch\n",
    "    if isinstance(ele, note.Note):\n",
    "        notes_demo.append(str(ele.pitch))\n",
    "    \n",
    "    # If the element is a Chord, split each note of chord and join them with +\n",
    "    elif isinstance(ele, chord.Chord):\n",
    "        notes_demo.append(\"+\".join(str(n) for n in ele.normalOrder))"
   ]
  },
  {
   "cell_type": "code",
   "execution_count": 17,
   "metadata": {},
   "outputs": [
    {
     "data": {
      "text/plain": [
       "0"
      ]
     },
     "execution_count": 17,
     "metadata": {},
     "output_type": "execute_result"
    }
   ],
   "source": [
    "len(notes_demo)"
   ]
  },
  {
   "cell_type": "code",
   "execution_count": 18,
   "metadata": {},
   "outputs": [
    {
     "name": "stdout",
     "output_type": "stream",
     "text": [
      "Index 68 is out of range. The list has only 2 elements.\n"
     ]
    }
   ],
   "source": [
    "from music21 import stream, note, chord\n",
    "\n",
    "# Example: Create a Stream object with some notes and chords\n",
    "stream_object = stream.Stream()\n",
    "stream_object.append(note.Note('C4'))\n",
    "stream_object.append(note.Note('D4'))\n",
    "stream_object.append(chord.Chord(['E4', 'G4', 'B4']))\n",
    "\n",
    "# Flatten the stream and get all the notes and chords\n",
    "elements_to_parse = [element for element in stream_object.flat.getElementsByClass('Note')]\n",
    "\n",
    "# Try accessing an element at index 68\n",
    "try:\n",
    "    element = elements_to_parse[68]  # Try to access index 68\n",
    "    if isinstance(element, chord.Chord):\n",
    "        print(\"Element at index 68 is a chord.\")\n",
    "    else:\n",
    "        print(\"Element at index 68 is not a chord.\")\n",
    "except IndexError:\n",
    "    print(\"Index 68 is out of range. The list has only\", len(elements_to_parse), \"elements.\")\n"
   ]
  },
  {
   "cell_type": "markdown",
   "metadata": {},
   "source": [
    "# Preprocessing all Files"
   ]
  },
  {
   "cell_type": "code",
   "execution_count": 19,
   "metadata": {},
   "outputs": [
    {
     "name": "stdout",
     "output_type": "stream",
     "text": [
      "parsing midi_songs/Ff7-Jenova_Absolute.mid\n",
      "parsing midi_songs/FF8_Shuffle_or_boogie_pc.mid\n",
      "parsing midi_songs/ahead_on_our_way_piano.mid\n",
      "parsing midi_songs/balamb.mid\n",
      "parsing midi_songs/DOS.mid\n",
      "parsing midi_songs/FF3_Battle_(Piano).mid\n",
      "parsing midi_songs/Suteki_Da_Ne_(Piano_Version).mid\n",
      "parsing midi_songs/caitsith.mid\n",
      "parsing midi_songs/sera_.mid\n",
      "parsing midi_songs/Oppressed.mid\n",
      "parsing midi_songs/ff4-airship.mid\n",
      "parsing midi_songs/ff7themep.mid\n",
      "parsing midi_songs/FFVII_BATTLE.mid\n",
      "parsing midi_songs/electric_de_chocobo.mid\n",
      "parsing midi_songs/Ff7-One_Winged.mid\n",
      "parsing midi_songs/Finalfantasy5gilgameshp.mid\n",
      "parsing midi_songs/Cids.mid\n",
      "parsing midi_songs/lurk_in_dark.mid\n",
      "parsing midi_songs/FFX_-_Ending_Theme_(Piano_Version)_-_by_Angel_FF.mid\n",
      "parsing midi_songs/ff4pclov.mid\n",
      "parsing midi_songs/AT.mid\n",
      "parsing midi_songs/Final_Fantasy_7_-_Judgement_Day_Piano.mid\n",
      "parsing midi_songs/8.mid\n",
      "parsing midi_songs/sobf.mid\n",
      "parsing midi_songs/In_Zanarkand.mid\n",
      "parsing midi_songs/waltz_de_choco.mid\n",
      "parsing midi_songs/z_aeristhemepiano.mid\n",
      "parsing midi_songs/Final_Fantasy_Matouyas_Cave_Piano.mid\n",
      "parsing midi_songs/redwings.mid\n",
      "parsing midi_songs/roseofmay-piano.mid\n",
      "parsing midi_songs/ff4_piano_collections-main_theme.mid\n",
      "parsing midi_songs/dontbeafraid.mid\n",
      "parsing midi_songs/dayafter.mid\n",
      "parsing midi_songs/FF6epitaph_piano.mid\n",
      "parsing midi_songs/FFIX_Piano.mid\n",
      "parsing midi_songs/FFIII_Edgar_And_Sabin_Piano.mid\n",
      "parsing midi_songs/ultros.mid\n",
      "parsing midi_songs/0fithos.mid\n",
      "parsing midi_songs/BlueStone_LastDungeon.mid\n",
      "parsing midi_songs/ff8-lfp.mid\n",
      "parsing midi_songs/rufus.mid\n",
      "parsing midi_songs/ff4-fight1.mid\n",
      "parsing midi_songs/Life_Stream.mid\n",
      "parsing midi_songs/Zelda_Overworld.mid\n",
      "parsing midi_songs/JENOVA.mid\n",
      "parsing midi_songs/thenightmarebegins.mid\n",
      "parsing midi_songs/FF4.mid\n",
      "parsing midi_songs/figaro.mid\n",
      "parsing midi_songs/Fiend_Battle_(Piano).mid\n",
      "parsing midi_songs/cosmo.mid\n",
      "parsing midi_songs/Kingdom_Hearts_Dearly_Beloved.mid\n",
      "parsing midi_songs/pkelite4.mid\n",
      "parsing midi_songs/tifap.mid\n",
      "parsing midi_songs/relmstheme-piano.mid\n",
      "parsing midi_songs/ff11_awakening_piano.mid\n",
      "parsing midi_songs/ff7-mainmidi.mid\n",
      "parsing midi_songs/ff6shap.mid\n",
      "parsing midi_songs/gerudo.mid\n",
      "parsing midi_songs/OTD5YA.mid\n",
      "parsing midi_songs/Rydia_pc.mid\n",
      "parsing midi_songs/ultimafro.mid\n",
      "parsing midi_songs/Ff4-BattleLust.mid\n",
      "parsing midi_songs/great_war.mid\n",
      "parsing midi_songs/tpirtsd-piano.mid\n",
      "parsing midi_songs/goldsaucer.mid\n",
      "parsing midi_songs/ViviinAlexandria.mid\n",
      "parsing midi_songs/EyesOnMePiano.mid\n",
      "parsing midi_songs/fortresscondor.mid\n",
      "parsing midi_songs/Still_Alive-1.mid\n",
      "parsing midi_songs/Fyw_piano.mid\n",
      "parsing midi_songs/VincentPiano.mid\n",
      "parsing midi_songs/thoughts.mid\n",
      "parsing midi_songs/Ff7-Cinco.mid\n",
      "parsing midi_songs/sandy.mid\n",
      "parsing midi_songs/costadsol.mid\n",
      "parsing midi_songs/path_of_repentance.mid\n",
      "parsing midi_songs/ff4-town.mid\n",
      "parsing midi_songs/mining.mid\n",
      "parsing midi_songs/decisive.mid\n",
      "parsing midi_songs/Kingdom_Hearts_Traverse_Town.mid\n",
      "parsing midi_songs/braska.mid\n",
      "parsing midi_songs/HighwindTakestotheSkies.mid\n",
      "parsing midi_songs/Gold_Silver_Rival_Battle.mid\n",
      "parsing midi_songs/Fierce_Battle_(Piano).mid\n",
      "parsing midi_songs/Rachel_Piano_tempofix.mid\n",
      "parsing midi_songs/FF3_Third_Phase_Final_(Piano).mid\n",
      "parsing midi_songs/Eternal_Harvest.mid\n",
      "parsing midi_songs/ff1battp.mid\n",
      "parsing midi_songs/Finalfantasy6fanfarecomplete.mid\n",
      "parsing midi_songs/FFIXQuMarshP.mid\n",
      "parsing midi_songs/bcm.mid\n",
      "parsing midi_songs/traitor.mid\n"
     ]
    }
   ],
   "source": [
    "notes = []\n",
    "\n",
    "for file in glob.glob(\"midi_songs/*.mid\"):\n",
    "    midi = converter.parse(file) # Convert file into stream.Score Object\n",
    "    \n",
    "    print(\"parsing %s\"%file)\n",
    "    \n",
    "    elements_to_parse = midi.flat.notes\n",
    "    \n",
    "    \n",
    "    for ele in elements_to_parse:\n",
    "        # If the element is a Note,  then store it's pitch\n",
    "        if isinstance(ele, note.Note):\n",
    "            notes.append(str(ele.pitch))\n",
    "\n",
    "        # If the element is a Chord, split each note of chord and join them with +\n",
    "        elif isinstance(ele, chord.Chord):\n",
    "            notes.append(\"+\".join(str(n) for n in ele.normalOrder))"
   ]
  },
  {
   "cell_type": "code",
   "execution_count": 20,
   "metadata": {},
   "outputs": [
    {
     "data": {
      "text/plain": [
       "60778"
      ]
     },
     "execution_count": 20,
     "metadata": {},
     "output_type": "execute_result"
    }
   ],
   "source": [
    "len(notes)"
   ]
  },
  {
   "cell_type": "code",
   "execution_count": 21,
   "metadata": {},
   "outputs": [],
   "source": [
    "with open(\"notes\", 'wb') as filepath:\n",
    "    pickle.dump(notes, filepath)"
   ]
  },
  {
   "cell_type": "code",
   "execution_count": 22,
   "metadata": {},
   "outputs": [],
   "source": [
    "with open(\"notes\", 'rb') as f:\n",
    "    notes= pickle.load(f)"
   ]
  },
  {
   "cell_type": "code",
   "execution_count": 23,
   "metadata": {},
   "outputs": [],
   "source": [
    "n_vocab = len(set(notes))"
   ]
  },
  {
   "cell_type": "code",
   "execution_count": 24,
   "metadata": {},
   "outputs": [
    {
     "name": "stdout",
     "output_type": "stream",
     "text": [
      "Total notes-  60778\n",
      "Unique notes-  398\n"
     ]
    }
   ],
   "source": [
    "print(\"Total notes- \", len(notes))\n",
    "print(\"Unique notes- \",  n_vocab)"
   ]
  },
  {
   "cell_type": "code",
   "execution_count": 25,
   "metadata": {},
   "outputs": [
    {
     "name": "stdout",
     "output_type": "stream",
     "text": [
      "['G#5', 'F2', 'B-5', 'G5', 'G#5', 'F2', 'B-5', 'C6', 'B-5', 'F2', 'E-6', 'E-2', 'F6', 'E2', '0+5', 'F2', 'F2', 'F2', 'B-2', 'C3', '8+0', 'F2', 'F2', '7+10', 'F2', 'F2', 'C#3', 'C3', '0+3', 'F2', 'F2', 'F2', 'B-2', 'C3', '10+2', 'F2', 'F2', 'F2', 'F2', 'E-2', 'E2', '8+0', 'F2', 'F2', 'F2', 'B-2', 'C3', '8+0', 'F2', 'F2', 'F2', 'F2', 'C#3', 'C3', '5', 'F2', '5', 'F2', 'B-4', 'F2', 'G4', 'G#4', 'B-2', 'F4', 'G4', 'C3', 'E-4', 'F2', 'F5', 'G5', 'G#5', 'F2', 'B-5', 'G5', 'G#5', 'F2', 'B-5', 'C6', 'B-5', 'F2', 'E-6', 'C#3', 'F6', 'C3', '0+5', 'F2', 'F2', 'F2', 'B-2', 'C3', '8+0', 'F2', 'F2', '7+10', 'F2', 'F2', 'C#3', 'C3', '0+3', 'F2']\n"
     ]
    }
   ],
   "source": [
    "print(notes[100:200])"
   ]
  },
  {
   "cell_type": "markdown",
   "metadata": {},
   "source": [
    "# Prepare Sequential Data for LSTM"
   ]
  },
  {
   "cell_type": "code",
   "execution_count": 26,
   "metadata": {},
   "outputs": [],
   "source": [
    "# Hoe many elements LSTM input should consider\n",
    "sequence_length = 100"
   ]
  },
  {
   "cell_type": "code",
   "execution_count": 27,
   "metadata": {},
   "outputs": [],
   "source": [
    "# All unique classes\n",
    "pitchnames = sorted(set(notes))"
   ]
  },
  {
   "cell_type": "code",
   "execution_count": 28,
   "metadata": {},
   "outputs": [],
   "source": [
    "# Mapping between ele to int value\n",
    "ele_to_int = dict( (ele, num) for num, ele in enumerate(pitchnames) )"
   ]
  },
  {
   "cell_type": "code",
   "execution_count": 29,
   "metadata": {},
   "outputs": [],
   "source": [
    "network_input = []\n",
    "network_output = []"
   ]
  },
  {
   "cell_type": "code",
   "execution_count": 30,
   "metadata": {},
   "outputs": [],
   "source": [
    "for i in range(len(notes) - sequence_length):\n",
    "    seq_in = notes[i : i+sequence_length] # contains 100 values\n",
    "    seq_out = notes[i + sequence_length]\n",
    "    \n",
    "    network_input.append([ele_to_int[ch] for ch in seq_in])\n",
    "    network_output.append(ele_to_int[seq_out])"
   ]
  },
  {
   "cell_type": "code",
   "execution_count": 31,
   "metadata": {},
   "outputs": [
    {
     "name": "stdout",
     "output_type": "stream",
     "text": [
      "60678\n"
     ]
    }
   ],
   "source": [
    "# No. of examples\n",
    "n_patterns = len(network_input)\n",
    "print(n_patterns)"
   ]
  },
  {
   "cell_type": "code",
   "execution_count": 32,
   "metadata": {},
   "outputs": [
    {
     "name": "stdout",
     "output_type": "stream",
     "text": [
      "(60678, 100, 1)\n"
     ]
    }
   ],
   "source": [
    "# Desired shape for LSTM\n",
    "network_input = np.reshape(network_input, (n_patterns, sequence_length, 1))\n",
    "print(network_input.shape)"
   ]
  },
  {
   "cell_type": "code",
   "execution_count": 33,
   "metadata": {},
   "outputs": [],
   "source": [
    "normalised_network_input = network_input/float(n_vocab)"
   ]
  },
  {
   "cell_type": "code",
   "execution_count": 34,
   "metadata": {},
   "outputs": [],
   "source": [
    "# Import the necessary function from tensorflow.keras.utils\n",
    "from tensorflow.keras.utils import to_categorical\n",
    "\n",
    "# Now use to_categorical to convert network output to one-hot encoding\n",
    "network_output = to_categorical(network_output)\n"
   ]
  },
  {
   "cell_type": "code",
   "execution_count": 35,
   "metadata": {},
   "outputs": [
    {
     "data": {
      "text/plain": [
       "(60678, 398)"
      ]
     },
     "execution_count": 35,
     "metadata": {},
     "output_type": "execute_result"
    }
   ],
   "source": [
    "network_output.shape"
   ]
  },
  {
   "cell_type": "code",
   "execution_count": 36,
   "metadata": {},
   "outputs": [
    {
     "name": "stdout",
     "output_type": "stream",
     "text": [
      "(60678, 100, 1)\n",
      "(60678, 398)\n"
     ]
    }
   ],
   "source": [
    "print(normalised_network_input.shape)\n",
    "print(network_output.shape)"
   ]
  },
  {
   "cell_type": "markdown",
   "metadata": {},
   "source": [
    "# Create Model"
   ]
  },
  {
   "cell_type": "code",
   "execution_count": 37,
   "metadata": {},
   "outputs": [],
   "source": [
    "from keras.models import Sequential, load_model\n",
    "from keras.layers import *\n",
    "from keras.callbacks import ModelCheckpoint, EarlyStopping"
   ]
  },
  {
   "cell_type": "code",
   "execution_count": 38,
   "metadata": {},
   "outputs": [
    {
     "name": "stderr",
     "output_type": "stream",
     "text": [
      "/opt/anaconda3/lib/python3.11/site-packages/keras/src/layers/rnn/rnn.py:204: UserWarning: Do not pass an `input_shape`/`input_dim` argument to a layer. When using Sequential models, prefer using an `Input(shape)` object as the first layer in the model instead.\n",
      "  super().__init__(**kwargs)\n"
     ]
    }
   ],
   "source": [
    "model = Sequential()\n",
    "model.add( LSTM(units=512,\n",
    "               input_shape = (normalised_network_input.shape[1], normalised_network_input.shape[2]),\n",
    "               return_sequences = True) )\n",
    "model.add( Dropout(0.3) )\n",
    "model.add( LSTM(512, return_sequences=True) )\n",
    "model.add( Dropout(0.3) )\n",
    "model.add( LSTM(512) )\n",
    "model.add( Dense(256) )\n",
    "model.add( Dropout(0.3) )\n",
    "model.add( Dense(n_vocab, activation=\"softmax\") )"
   ]
  },
  {
   "cell_type": "code",
   "execution_count": 39,
   "metadata": {},
   "outputs": [],
   "source": [
    "model.compile(loss=\"categorical_crossentropy\", optimizer=\"adam\")"
   ]
  },
  {
   "cell_type": "code",
   "execution_count": 40,
   "metadata": {},
   "outputs": [
    {
     "data": {
      "text/html": [
       "<pre style=\"white-space:pre;overflow-x:auto;line-height:normal;font-family:Menlo,'DejaVu Sans Mono',consolas,'Courier New',monospace\"><span style=\"font-weight: bold\">Model: \"sequential\"</span>\n",
       "</pre>\n"
      ],
      "text/plain": [
       "\u001b[1mModel: \"sequential\"\u001b[0m\n"
      ]
     },
     "metadata": {},
     "output_type": "display_data"
    },
    {
     "data": {
      "text/html": [
       "<pre style=\"white-space:pre;overflow-x:auto;line-height:normal;font-family:Menlo,'DejaVu Sans Mono',consolas,'Courier New',monospace\">┏━━━━━━━━━━━━━━━━━━━━━━━━━━━━━━━━━┳━━━━━━━━━━━━━━━━━━━━━━━━┳━━━━━━━━━━━━━━━┓\n",
       "┃<span style=\"font-weight: bold\"> Layer (type)                    </span>┃<span style=\"font-weight: bold\"> Output Shape           </span>┃<span style=\"font-weight: bold\">       Param # </span>┃\n",
       "┡━━━━━━━━━━━━━━━━━━━━━━━━━━━━━━━━━╇━━━━━━━━━━━━━━━━━━━━━━━━╇━━━━━━━━━━━━━━━┩\n",
       "│ lstm (<span style=\"color: #0087ff; text-decoration-color: #0087ff\">LSTM</span>)                     │ (<span style=\"color: #00d7ff; text-decoration-color: #00d7ff\">None</span>, <span style=\"color: #00af00; text-decoration-color: #00af00\">100</span>, <span style=\"color: #00af00; text-decoration-color: #00af00\">512</span>)       │     <span style=\"color: #00af00; text-decoration-color: #00af00\">1,052,672</span> │\n",
       "├─────────────────────────────────┼────────────────────────┼───────────────┤\n",
       "│ dropout (<span style=\"color: #0087ff; text-decoration-color: #0087ff\">Dropout</span>)               │ (<span style=\"color: #00d7ff; text-decoration-color: #00d7ff\">None</span>, <span style=\"color: #00af00; text-decoration-color: #00af00\">100</span>, <span style=\"color: #00af00; text-decoration-color: #00af00\">512</span>)       │             <span style=\"color: #00af00; text-decoration-color: #00af00\">0</span> │\n",
       "├─────────────────────────────────┼────────────────────────┼───────────────┤\n",
       "│ lstm_1 (<span style=\"color: #0087ff; text-decoration-color: #0087ff\">LSTM</span>)                   │ (<span style=\"color: #00d7ff; text-decoration-color: #00d7ff\">None</span>, <span style=\"color: #00af00; text-decoration-color: #00af00\">100</span>, <span style=\"color: #00af00; text-decoration-color: #00af00\">512</span>)       │     <span style=\"color: #00af00; text-decoration-color: #00af00\">2,099,200</span> │\n",
       "├─────────────────────────────────┼────────────────────────┼───────────────┤\n",
       "│ dropout_1 (<span style=\"color: #0087ff; text-decoration-color: #0087ff\">Dropout</span>)             │ (<span style=\"color: #00d7ff; text-decoration-color: #00d7ff\">None</span>, <span style=\"color: #00af00; text-decoration-color: #00af00\">100</span>, <span style=\"color: #00af00; text-decoration-color: #00af00\">512</span>)       │             <span style=\"color: #00af00; text-decoration-color: #00af00\">0</span> │\n",
       "├─────────────────────────────────┼────────────────────────┼───────────────┤\n",
       "│ lstm_2 (<span style=\"color: #0087ff; text-decoration-color: #0087ff\">LSTM</span>)                   │ (<span style=\"color: #00d7ff; text-decoration-color: #00d7ff\">None</span>, <span style=\"color: #00af00; text-decoration-color: #00af00\">512</span>)            │     <span style=\"color: #00af00; text-decoration-color: #00af00\">2,099,200</span> │\n",
       "├─────────────────────────────────┼────────────────────────┼───────────────┤\n",
       "│ dense (<span style=\"color: #0087ff; text-decoration-color: #0087ff\">Dense</span>)                   │ (<span style=\"color: #00d7ff; text-decoration-color: #00d7ff\">None</span>, <span style=\"color: #00af00; text-decoration-color: #00af00\">256</span>)            │       <span style=\"color: #00af00; text-decoration-color: #00af00\">131,328</span> │\n",
       "├─────────────────────────────────┼────────────────────────┼───────────────┤\n",
       "│ dropout_2 (<span style=\"color: #0087ff; text-decoration-color: #0087ff\">Dropout</span>)             │ (<span style=\"color: #00d7ff; text-decoration-color: #00d7ff\">None</span>, <span style=\"color: #00af00; text-decoration-color: #00af00\">256</span>)            │             <span style=\"color: #00af00; text-decoration-color: #00af00\">0</span> │\n",
       "├─────────────────────────────────┼────────────────────────┼───────────────┤\n",
       "│ dense_1 (<span style=\"color: #0087ff; text-decoration-color: #0087ff\">Dense</span>)                 │ (<span style=\"color: #00d7ff; text-decoration-color: #00d7ff\">None</span>, <span style=\"color: #00af00; text-decoration-color: #00af00\">398</span>)            │       <span style=\"color: #00af00; text-decoration-color: #00af00\">102,286</span> │\n",
       "└─────────────────────────────────┴────────────────────────┴───────────────┘\n",
       "</pre>\n"
      ],
      "text/plain": [
       "┏━━━━━━━━━━━━━━━━━━━━━━━━━━━━━━━━━┳━━━━━━━━━━━━━━━━━━━━━━━━┳━━━━━━━━━━━━━━━┓\n",
       "┃\u001b[1m \u001b[0m\u001b[1mLayer (type)                   \u001b[0m\u001b[1m \u001b[0m┃\u001b[1m \u001b[0m\u001b[1mOutput Shape          \u001b[0m\u001b[1m \u001b[0m┃\u001b[1m \u001b[0m\u001b[1m      Param #\u001b[0m\u001b[1m \u001b[0m┃\n",
       "┡━━━━━━━━━━━━━━━━━━━━━━━━━━━━━━━━━╇━━━━━━━━━━━━━━━━━━━━━━━━╇━━━━━━━━━━━━━━━┩\n",
       "│ lstm (\u001b[38;5;33mLSTM\u001b[0m)                     │ (\u001b[38;5;45mNone\u001b[0m, \u001b[38;5;34m100\u001b[0m, \u001b[38;5;34m512\u001b[0m)       │     \u001b[38;5;34m1,052,672\u001b[0m │\n",
       "├─────────────────────────────────┼────────────────────────┼───────────────┤\n",
       "│ dropout (\u001b[38;5;33mDropout\u001b[0m)               │ (\u001b[38;5;45mNone\u001b[0m, \u001b[38;5;34m100\u001b[0m, \u001b[38;5;34m512\u001b[0m)       │             \u001b[38;5;34m0\u001b[0m │\n",
       "├─────────────────────────────────┼────────────────────────┼───────────────┤\n",
       "│ lstm_1 (\u001b[38;5;33mLSTM\u001b[0m)                   │ (\u001b[38;5;45mNone\u001b[0m, \u001b[38;5;34m100\u001b[0m, \u001b[38;5;34m512\u001b[0m)       │     \u001b[38;5;34m2,099,200\u001b[0m │\n",
       "├─────────────────────────────────┼────────────────────────┼───────────────┤\n",
       "│ dropout_1 (\u001b[38;5;33mDropout\u001b[0m)             │ (\u001b[38;5;45mNone\u001b[0m, \u001b[38;5;34m100\u001b[0m, \u001b[38;5;34m512\u001b[0m)       │             \u001b[38;5;34m0\u001b[0m │\n",
       "├─────────────────────────────────┼────────────────────────┼───────────────┤\n",
       "│ lstm_2 (\u001b[38;5;33mLSTM\u001b[0m)                   │ (\u001b[38;5;45mNone\u001b[0m, \u001b[38;5;34m512\u001b[0m)            │     \u001b[38;5;34m2,099,200\u001b[0m │\n",
       "├─────────────────────────────────┼────────────────────────┼───────────────┤\n",
       "│ dense (\u001b[38;5;33mDense\u001b[0m)                   │ (\u001b[38;5;45mNone\u001b[0m, \u001b[38;5;34m256\u001b[0m)            │       \u001b[38;5;34m131,328\u001b[0m │\n",
       "├─────────────────────────────────┼────────────────────────┼───────────────┤\n",
       "│ dropout_2 (\u001b[38;5;33mDropout\u001b[0m)             │ (\u001b[38;5;45mNone\u001b[0m, \u001b[38;5;34m256\u001b[0m)            │             \u001b[38;5;34m0\u001b[0m │\n",
       "├─────────────────────────────────┼────────────────────────┼───────────────┤\n",
       "│ dense_1 (\u001b[38;5;33mDense\u001b[0m)                 │ (\u001b[38;5;45mNone\u001b[0m, \u001b[38;5;34m398\u001b[0m)            │       \u001b[38;5;34m102,286\u001b[0m │\n",
       "└─────────────────────────────────┴────────────────────────┴───────────────┘\n"
      ]
     },
     "metadata": {},
     "output_type": "display_data"
    },
    {
     "data": {
      "text/html": [
       "<pre style=\"white-space:pre;overflow-x:auto;line-height:normal;font-family:Menlo,'DejaVu Sans Mono',consolas,'Courier New',monospace\"><span style=\"font-weight: bold\"> Total params: </span><span style=\"color: #00af00; text-decoration-color: #00af00\">5,484,686</span> (20.92 MB)\n",
       "</pre>\n"
      ],
      "text/plain": [
       "\u001b[1m Total params: \u001b[0m\u001b[38;5;34m5,484,686\u001b[0m (20.92 MB)\n"
      ]
     },
     "metadata": {},
     "output_type": "display_data"
    },
    {
     "data": {
      "text/html": [
       "<pre style=\"white-space:pre;overflow-x:auto;line-height:normal;font-family:Menlo,'DejaVu Sans Mono',consolas,'Courier New',monospace\"><span style=\"font-weight: bold\"> Trainable params: </span><span style=\"color: #00af00; text-decoration-color: #00af00\">5,484,686</span> (20.92 MB)\n",
       "</pre>\n"
      ],
      "text/plain": [
       "\u001b[1m Trainable params: \u001b[0m\u001b[38;5;34m5,484,686\u001b[0m (20.92 MB)\n"
      ]
     },
     "metadata": {},
     "output_type": "display_data"
    },
    {
     "data": {
      "text/html": [
       "<pre style=\"white-space:pre;overflow-x:auto;line-height:normal;font-family:Menlo,'DejaVu Sans Mono',consolas,'Courier New',monospace\"><span style=\"font-weight: bold\"> Non-trainable params: </span><span style=\"color: #00af00; text-decoration-color: #00af00\">0</span> (0.00 B)\n",
       "</pre>\n"
      ],
      "text/plain": [
       "\u001b[1m Non-trainable params: \u001b[0m\u001b[38;5;34m0\u001b[0m (0.00 B)\n"
      ]
     },
     "metadata": {},
     "output_type": "display_data"
    }
   ],
   "source": [
    "model.summary()"
   ]
  },
  {
   "cell_type": "code",
   "execution_count": null,
   "metadata": {},
   "outputs": [
    {
     "name": "stdout",
     "output_type": "stream",
     "text": [
      "Epoch 1/10\n",
      "\u001b[1m130/949\u001b[0m \u001b[32m━━\u001b[0m\u001b[37m━━━━━━━━━━━━━━━━━━\u001b[0m \u001b[1m36:18\u001b[0m 3s/step - loss: 5.1656"
     ]
    }
   ],
   "source": [
    "from tensorflow.keras.callbacks import ModelCheckpoint\n",
    "\n",
    "# Correct the file path to end with .keras\n",
    "checkpoint = ModelCheckpoint(\"model.keras\", monitor='loss', verbose=0, save_best_only=True, mode='min')\n",
    "\n",
    "# Fit the model with the checkpoint callback\n",
    "model_his = model.fit(normalised_network_input, network_output, epochs=10, batch_size=64, callbacks=[checkpoint])\n"
   ]
  },
  {
   "cell_type": "code",
   "execution_count": 201,
   "metadata": {},
   "outputs": [],
   "source": [
    "model = load_model(\"new_weights.hdf5\")"
   ]
  },
  {
   "cell_type": "markdown",
   "metadata": {},
   "source": [
    "# Predictions"
   ]
  },
  {
   "cell_type": "code",
   "execution_count": 41,
   "metadata": {},
   "outputs": [],
   "source": [
    "sequence_length = 100\n",
    "network_input = []\n",
    "\n",
    "for i in range(len(notes) - sequence_length):\n",
    "    seq_in = notes[i : i+sequence_length] # contains 100 values\n",
    "    network_input.append([ele_to_int[ch] for ch in seq_in])"
   ]
  },
  {
   "cell_type": "code",
   "execution_count": 42,
   "metadata": {},
   "outputs": [],
   "source": [
    "# Any random start index\n",
    "start = np.random.randint(len(network_input) - 1)\n",
    "\n",
    "# Mapping int_to_ele\n",
    "int_to_ele = dict((num, ele) for num, ele in enumerate(pitchnames))\n",
    "\n",
    "# Initial pattern \n",
    "pattern = network_input[start]\n",
    "prediction_output = []\n",
    "\n",
    "# generate 200 elements\n",
    "for note_index in range(200):\n",
    "    prediction_input = np.reshape(pattern, (1, len(pattern), 1)) # convert into numpy desired shape \n",
    "    prediction_input = prediction_input/float(n_vocab) # normalise\n",
    "    \n",
    "    prediction =  model.predict(prediction_input, verbose=0)\n",
    "    \n",
    "    idx = np.argmax(prediction)\n",
    "    result = int_to_ele[idx]\n",
    "    prediction_output.append(result) \n",
    "    \n",
    "    # Remove the first value, and append the recent value.. \n",
    "    # This way input is moving forward step-by-step with time..\n",
    "    pattern.append(idx)\n",
    "    pattern = pattern[1:]"
   ]
  },
  {
   "cell_type": "code",
   "execution_count": 43,
   "metadata": {},
   "outputs": [
    {
     "name": "stdout",
     "output_type": "stream",
     "text": [
      "['9', '9', '9', '9', '9', '9', '9', '9', '9', '9', '9', '9', '9', '9', '9', '9', '9', '9', '9', '9', '9', '9', '9', '9', '9', '9', '9', '9', '9', '9', '9', '9', '9', '9', '9', '9', '9', '9', '9', '9', '9', '9', '9', '9', '9', '9', '9', '9', '9', '9', '9', '9', '9', '9', '9', '9', '9', '9', '9', '9', '9', '9', '9', '9', '9', '9', '9', '9', '9', '9', '9', '9', '9', '9', '9', '9', '9', '9', '9', '9', '9', '9', '9', '9', '9', '9', '9', '9', '9', '9', '9', '9', '9', '9', '9', '9', '9', '9', '9', '9', '9', '9', '9', '9', '9', '9', '9', '9', '9', '9', '9', '9', '9', '9', '9', '9', '9', '9', '9', '9', '9', '9', '9', '9', '9', '9', '9', '9', '9', '9', '9', '9', '9', '9', '9', '9', '9', '9', '9', '9', '9', '9', '9', '9', '9', '9', '9', '9', '9', '9', '9', '9', '9', '9', '9', '9', '9', '9', '9', '9', '9', '9', '9', '9', '9', '9', '9', '9', '9', '9', '9', '9', '9', '9', '9', '9', '9', '9', '9', '9', '9', '9', '9', '9', '9', '9', '9', '9', '9', '9', '9', '9', '9', '9', '9', '9', '9', '9', '9', '9']\n"
     ]
    }
   ],
   "source": [
    "print(prediction_output)"
   ]
  },
  {
   "cell_type": "markdown",
   "metadata": {},
   "source": [
    "# Create Midi File"
   ]
  },
  {
   "cell_type": "code",
   "execution_count": null,
   "metadata": {},
   "outputs": [],
   "source": []
  },
  {
   "cell_type": "code",
   "execution_count": 44,
   "metadata": {},
   "outputs": [],
   "source": [
    "offset = 0 # Time\n",
    "output_notes = []\n",
    "\n",
    "for pattern in prediction_output:\n",
    "    \n",
    "    # if the pattern is a chord\n",
    "    if ('+' in pattern) or pattern.isdigit():\n",
    "        notes_in_chord = pattern.split('+')\n",
    "        temp_notes = []\n",
    "        for current_note in notes_in_chord:\n",
    "            new_note = note.Note(int(current_note))  # create Note object for each note in the chord\n",
    "            new_note.storedInstrument = instrument.Piano()\n",
    "            temp_notes.append(new_note)\n",
    "            \n",
    "        \n",
    "        new_chord = chord.Chord(temp_notes) # creates the chord() from the list of notes\n",
    "        new_chord.offset = offset\n",
    "        output_notes.append(new_chord)\n",
    "    \n",
    "    else:\n",
    "            # if the pattern is a note\n",
    "        new_note = note.Note(pattern)\n",
    "        new_note.offset = offset\n",
    "        new_note.storedInstrument = instrument.Piano()\n",
    "        output_notes.append(new_note)\n",
    "        \n",
    "    offset += 0.5"
   ]
  },
  {
   "cell_type": "code",
   "execution_count": null,
   "metadata": {},
   "outputs": [],
   "source": []
  },
  {
   "cell_type": "code",
   "execution_count": 45,
   "metadata": {},
   "outputs": [
    {
     "data": {
      "text/plain": [
       "'test_output.mid'"
      ]
     },
     "execution_count": 45,
     "metadata": {},
     "output_type": "execute_result"
    }
   ],
   "source": [
    "# create a stream object from the generated notes\n",
    "midi_stream = stream.Stream(output_notes)\n",
    "midi_stream.write('midi', fp = \"test_output.mid\")"
   ]
  },
  {
   "cell_type": "code",
   "execution_count": 46,
   "metadata": {},
   "outputs": [
    {
     "data": {
      "text/html": [
       "\n",
       "        <div id=\"midiPlayerDiv204350\"></div>\n",
       "        <link rel=\"stylesheet\" href=\"https://cuthbertLab.github.io/music21j/css/m21.css\">\n",
       "        \n",
       "        <script\n",
       "        src=\"https://cdnjs.cloudflare.com/ajax/libs/require.js/2.3.6/require.min.js\"\n",
       "        ></script>\n",
       "    \n",
       "        <script>\n",
       "        function midiPlayerDiv204350_play() {\n",
       "            const rq = require.config({\n",
       "                paths: {\n",
       "                    'music21': 'https://cuthbertLab.github.io/music21j/releases/music21.debug',\n",
       "                }\n",
       "            });\n",
       "            rq(['music21'], function(music21) {\n",
       "                mp = new music21.miditools.MidiPlayer();\n",
       "                mp.addPlayer(\"#midiPlayerDiv204350\");\n",
       "                mp.base64Load(\"data:audio/midi;base64,TVRoZAAAAAYAAQACJ2BNVHJrAAAAFAD/UQMHoSAA/1gEBAIYCM5g/y8ATVRyawAABxcA/wMAAOAAQM5gkEVapzCQRVqnMIBFAACQRVqnMIBFAACQRVqnMIBFAACQRVqnMIBFAACQRVqnMIBFAACQRVqnMIBFAACQRVqnMIBFAACQRVqnMIBFAACQRVqnMIBFAACQRVqnMIBFAACQRVqnMIBFAACQRVqnMIBFAACQRVqnMIBFAACQRVqnMIBFAACQRVqnMIBFAACQRVqnMIBFAACQRVqnMIBFAACQRVqnMIBFAACQRVqnMIBFAACQRVqnMIBFAACQRVqnMIBFAACQRVqnMIBFAACQRVqnMIBFAACQRVqnMIBFAACQRVqnMIBFAACQRVqnMIBFAACQRVqnMIBFAACQRVqnMIBFAACQRVqnMIBFAACQRVqnMIBFAACQRVqnMIBFAACQRVqnMIBFAACQRVqnMIBFAACQRVqnMIBFAACQRVqnMIBFAACQRVqnMIBFAACQRVqnMIBFAACQRVqnMIBFAACQRVqnMIBFAACQRVqnMIBFAACQRVqnMIBFAACQRVqnMIBFAACQRVqnMIBFAACQRVqnMIBFAACQRVqnMIBFAACQRVqnMIBFAACQRVqnMIBFAACQRVqnMIBFAACQRVqnMIBFAACQRVqnMIBFAACQRVqnMIBFAACQRVqnMIBFAACQRVqnMIBFAACQRVqnMIBFAACQRVqnMIBFAACQRVqnMIBFAACQRVqnMIBFAACQRVqnMIBFAACQRVqnMIBFAACQRVqnMIBFAACQRVqnMIBFAACQRVqnMIBFAACQRVqnMIBFAACQRVqnMIBFAACQRVqnMIBFAACQRVqnMIBFAACQRVqnMIBFAACQRVqnMIBFAACQRVqnMIBFAACQRVqnMIBFAACQRVqnMIBFAACQRVqnMIBFAACQRVqnMIBFAACQRVqnMIBFAACQRVqnMIBFAACQRVqnMIBFAACQRVqnMIBFAACQRVqnMIBFAACQRVqnMIBFAACQRVqnMIBFAACQRVqnMIBFAACQRVqnMIBFAACQRVqnMIBFAACQRVqnMIBFAACQRVqnMIBFAACQRVqnMIBFAACQRVqnMIBFAACQRVqnMIBFAACQRVqnMIBFAACQRVqnMIBFAACQRVqnMIBFAACQRVqnMIBFAACQRVqnMIBFAACQRVqnMIBFAACQRVqnMIBFAACQRVqnMIBFAACQRVqnMIBFAACQRVqnMIBFAACQRVqnMIBFAACQRVqnMIBFAACQRVqnMIBFAACQRVqnMIBFAACQRVqnMIBFAACQRVqnMIBFAACQRVqnMIBFAACQRVqnMIBFAACQRVqnMIBFAACQRVqnMIBFAACQRVqnMIBFAACQRVqnMIBFAACQRVqnMIBFAACQRVqnMIBFAACQRVqnMIBFAACQRVqnMIBFAACQRVqnMIBFAACQRVqnMIBFAACQRVqnMIBFAACQRVqnMIBFAACQRVqnMIBFAACQRVqnMIBFAACQRVqnMIBFAACQRVqnMIBFAACQRVqnMIBFAACQRVqnMIBFAACQRVqnMIBFAACQRVqnMIBFAACQRVqnMIBFAACQRVqnMIBFAACQRVqnMIBFAACQRVqnMIBFAACQRVqnMIBFAACQRVqnMIBFAACQRVqnMIBFAACQRVqnMIBFAACQRVqnMIBFAACQRVqnMIBFAACQRVqnMIBFAACQRVqnMIBFAACQRVqnMIBFAACQRVqnMIBFAACQRVqnMIBFAACQRVqnMIBFAACQRVqnMIBFAACQRVqnMIBFAACQRVqnMIBFAACQRVqnMIBFAACQRVqnMIBFAACQRVqnMIBFAACQRVqnMIBFAACQRVqnMIBFAACQRVqnMIBFAACQRVqnMIBFAACQRVqnMIBFAACQRVqnMIBFAACQRVqnMIBFAACQRVqnMIBFAACQRVqnMIBFAACQRVqnMIBFAACQRVqnMIBFAACQRVqnMIBFAACQRVqnMIBFAACQRVqnMIBFAACQRVqnMIBFAACQRVqnMIBFAACQRVqnMIBFAACQRVqnMIBFAACQRVqnMIBFAACQRVqnMIBFAACQRVqnMIBFAACQRVqnMIBFAACQRVqnMIBFAACQRVqnMIBFAACQRVqnMIBFAACQRVqnMIBFAACQRVqnMIBFAACQRVqnMIBFAACQRVqnMIBFAACQRVqnMIBFAACQRVqnMIBFAACQRVqnMIBFAACQRVqnMIBFAACQRVqnMIBFAACQRVqnMIBFAACQRVqnMIBFAACQRVqnMIBFAACQRVqnMIBFAACQRVqnMIBFAACQRVqnMIBFAACQRVqnMIBFAACQRVqnMIBFAACQRVqnMIBFAACQRVqnMIBFAACQRVqnMIBFAACQRVqnMIBFAACQRVqnMIBFAACQRVqnMIBFAACQRVqnMIBFAACQRVqnMIBFAACQRVqnMIBFAKcwgEUAzmD/LwA=\");\n",
       "            });\n",
       "        }\n",
       "        if (typeof require === 'undefined') {\n",
       "            setTimeout(midiPlayerDiv204350_play, 2000);\n",
       "        } else {\n",
       "            midiPlayerDiv204350_play();\n",
       "        }\n",
       "        </script>"
      ],
      "text/plain": [
       "<IPython.core.display.HTML object>"
      ]
     },
     "metadata": {},
     "output_type": "display_data"
    }
   ],
   "source": [
    "midi_stream.show('midi')"
   ]
  },
  {
   "cell_type": "code",
   "execution_count": null,
   "metadata": {},
   "outputs": [],
   "source": []
  }
 ],
 "metadata": {
  "kernelspec": {
   "display_name": "Python 3 (ipykernel)",
   "language": "python",
   "name": "python3"
  },
  "language_info": {
   "codemirror_mode": {
    "name": "ipython",
    "version": 3
   },
   "file_extension": ".py",
   "mimetype": "text/x-python",
   "name": "python",
   "nbconvert_exporter": "python",
   "pygments_lexer": "ipython3",
   "version": "3.11.7"
  }
 },
 "nbformat": 4,
 "nbformat_minor": 4
}
